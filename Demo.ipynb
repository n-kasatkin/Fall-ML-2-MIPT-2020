{
 "cells": [
  {
   "cell_type": "markdown",
   "metadata": {},
   "source": [
    "```\n",
    "    Домашнее задание №2 по курсу Математические основы машинного обучения.\n",
    "    Подготовил Касаткин Н.Е. Email: kasatkin.ne@phystech.edu\n",
    "```"
   ]
  },
  {
   "cell_type": "markdown",
   "metadata": {},
   "source": [
    "Автору этой работы очень хотелось написать нейросеть с использованием популярного фреймворка *Pytorch Lightning*.\n",
    "Пускай решение и не набрало много очков на kaggle (не хватило времени развить идею), но был получен полезный практический опыт написания небольшого проекта с использованием современных решений."
   ]
  },
  {
   "cell_type": "markdown",
   "metadata": {},
   "source": [
    "### Архитектура"
   ]
  },
  {
   "cell_type": "markdown",
   "metadata": {},
   "source": [
    "В директории `./NeuralNetwork` содержатся скрипты для загрузки датасета, предобработки, деления его на обучение и валидацию; сама нейросеть и необходимые для pytorch lightning модули (`module.py`, `datamodule.py`), а также `loss.py` и `train.py`.\n",
    "\n",
    "Архитектура нейросети:\n",
    "```\n",
    "    nn.Linear(input_size, input_size),\n",
    "    nn.PReLU(),\n",
    "    nn.BatchNorm1d(input_size),\n",
    "    nn.Dropout(0.5),\n",
    "    nn.Linear(input_size, input_size),\n",
    "    nn.PReLU(),\n",
    "    nn.BatchNorm1d(input_size)\n",
    "    nn.Linear(input_size, num_classes)\n",
    "```\n",
    "где `input_size = 100`, `num_classes = 30`"
   ]
  },
  {
   "cell_type": "markdown",
   "metadata": {},
   "source": [
    "В качестве лосс функции для этой задачи многоклассовой классификации была выбрана стандартная `nn.CrossEntropyLoss()`."
   ]
  },
  {
   "cell_type": "markdown",
   "metadata": {},
   "source": [
    "### Предобработка"
   ]
  },
  {
   "cell_type": "markdown",
   "metadata": {},
   "source": [
    "Был проведен отбор обьектов с использованием простой эвристики - раз данные получены из распределений Дирихле с разными параметрами и быть может шумом, то выкинем все обьекты, которые имеют хотя бы один отрицательный признак и все, которые имеют отрицательную сумму признаков. Таким образом из 10000 обьектов осталась 9000 обьектов, которые реально относятся к распределению Дирихле (это дало существенный прирост качества предсказаний нейросети). В тестовых данных таких обьектов не было.\n",
    "\n",
    "Из `./NeuralNetwork/dataset.py`:\n",
    "\n",
    "```\n",
    "    df = data[features].apply(lambda x: np.sum(x), axis=1)\n",
    "    data = data[df > 0]\n",
    "    data = data[np.all(data >= 0, axis=1)]\n",
    "```"
   ]
  },
  {
   "cell_type": "markdown",
   "metadata": {},
   "source": [
    "### Обучение"
   ]
  },
  {
   "cell_type": "markdown",
   "metadata": {},
   "source": [
    "При обучении модели данные были поделены на обучение и валидацию (без контроля) в соотношении 75/25.  \n",
    "Наилучшая эпоха обучения выбиралась по наименьшему лоссу на валидации (см. `train.py`, `es_callback`).  \n",
    "Для обучения написан shell скрипт `run_train.sh`.\n",
    "\n",
    "Точность на валидации составила `68%`, а на тестовой части (на kaggle) `56%`. Это говорит о переобучении модели под валидационные данные, однако этого результата достаточно для оценки 3 из 5 и в силу нехватки времени решил оставить так."
   ]
  },
  {
   "cell_type": "markdown",
   "metadata": {},
   "source": [
    "### Получение предсказаний"
   ]
  },
  {
   "cell_type": "code",
   "execution_count": 1,
   "metadata": {},
   "outputs": [
    {
     "data": {
      "text/plain": [
       "<All keys matched successfully>"
      ]
     },
     "execution_count": 1,
     "metadata": {},
     "output_type": "execute_result"
    }
   ],
   "source": [
    "import os\n",
    "import os.path as osp\n",
    "import sys\n",
    "\n",
    "import numpy as np\n",
    "import pandas as pd\n",
    "import torch\n",
    "\n",
    "from NeuralNetwork.network import NNClassifier\n",
    "from NeuralNetwork.dataset import MyDataset\n",
    "\n",
    "\n",
    "# Было проведено несколько экспериментов и выбран наилучший\n",
    "EXPERIMENT = 'clean_objects'\n",
    "CHPT = 549\n",
    "\n",
    "# Название для сохранения весов\n",
    "SAVE_NAME = 'nnclassifier'\n",
    "\n",
    "# Загрузка чекпоинта и сохранения файла с весами\n",
    "ckpt_file = f'output/checkpoints/{EXPERIMENT}/epoch={CHPT}.ckpt'\n",
    "weights_file = f'models/{SAVE_NAME}.pth'\n",
    "\n",
    "ckpt = torch.load(ckpt_file, map_location='cpu')\n",
    "state_dict = {k[9:] if k.startswith('backbone.') else k: v for k, v in ckpt['state_dict'].items()}\n",
    "torch.save({'model': state_dict}, weights_file)\n",
    "\n",
    "# Загрузка тестовой части\n",
    "X, features = MyDataset.load_data('data/test.csv', test=True)\n",
    "X = torch.from_numpy(X).float()\n",
    "\n",
    "# Инициализация модели и загрузка весов\n",
    "model = NNClassifier()\n",
    "ckpt = torch.load(weights_file, map_location='cpu')\n",
    "model.load_state_dict(ckpt['model'])"
   ]
  },
  {
   "cell_type": "code",
   "execution_count": 2,
   "metadata": {},
   "outputs": [],
   "source": [
    "# Получение предсказания из логитов\n",
    "def predict(logits):\n",
    "    return torch.argmax(logits, dim=1).numpy()\n",
    "\n",
    "preds = predict(model(X))\n",
    "\n",
    "# Запись в файл\n",
    "with open('output/answer.csv', 'w') as f:\n",
    "    f.write('Id,Category\\n')\n",
    "    for i, pred in enumerate(preds):\n",
    "        string = f\"{i},{int(pred)}\\n\"\n",
    "        f.write(string)"
   ]
  },
  {
   "cell_type": "markdown",
   "metadata": {},
   "source": [
    "### Заключение"
   ]
  },
  {
   "cell_type": "markdown",
   "metadata": {},
   "source": [
    "Несмотря на не самый высокий результат на kaggle, хочется заметить, что даже такая простая нейросеть с минимальной предобработкой данных значительно лучше решает подобные задачи \"в лоб\", чем классические метрические методы такие как kNN (без всяких сложных трюков).  \n",
    "\n",
    "Я доволен проведенной работой, поскольку очень хотел написать сетку на pytorch lightning и это у меня получилось. "
   ]
  },
  {
   "cell_type": "markdown",
   "metadata": {},
   "source": [
    "### Дополнительно"
   ]
  },
  {
   "cell_type": "markdown",
   "metadata": {},
   "source": [
    "Я, разумеется, пробовал и другие подходы к решению задачи, чтобы просто сравнить их.  \n",
    "Ниже приведен код для классификации с помощью kNN."
   ]
  },
  {
   "cell_type": "code",
   "execution_count": 3,
   "metadata": {},
   "outputs": [
    {
     "name": "stdout",
     "output_type": "stream",
     "text": [
      "Total samples: 9000\n",
      "Samples per class\n",
      "\tmean: 300\n",
      "\tmedian: 304\n"
     ]
    },
    {
     "data": {
      "text/html": [
       "<div>\n",
       "<style scoped>\n",
       "    .dataframe tbody tr th:only-of-type {\n",
       "        vertical-align: middle;\n",
       "    }\n",
       "\n",
       "    .dataframe tbody tr th {\n",
       "        vertical-align: top;\n",
       "    }\n",
       "\n",
       "    .dataframe thead th {\n",
       "        text-align: right;\n",
       "    }\n",
       "</style>\n",
       "<table border=\"1\" class=\"dataframe\">\n",
       "  <thead>\n",
       "    <tr style=\"text-align: right;\">\n",
       "      <th></th>\n",
       "      <th>x_1</th>\n",
       "      <th>x_2</th>\n",
       "      <th>x_3</th>\n",
       "      <th>x_4</th>\n",
       "      <th>x_5</th>\n",
       "      <th>x_6</th>\n",
       "      <th>x_7</th>\n",
       "      <th>x_8</th>\n",
       "      <th>x_9</th>\n",
       "      <th>x_10</th>\n",
       "      <th>...</th>\n",
       "      <th>x_92</th>\n",
       "      <th>x_93</th>\n",
       "      <th>x_94</th>\n",
       "      <th>x_95</th>\n",
       "      <th>x_96</th>\n",
       "      <th>x_97</th>\n",
       "      <th>x_98</th>\n",
       "      <th>x_99</th>\n",
       "      <th>x_100</th>\n",
       "      <th>Category</th>\n",
       "    </tr>\n",
       "    <tr>\n",
       "      <th>Id</th>\n",
       "      <th></th>\n",
       "      <th></th>\n",
       "      <th></th>\n",
       "      <th></th>\n",
       "      <th></th>\n",
       "      <th></th>\n",
       "      <th></th>\n",
       "      <th></th>\n",
       "      <th></th>\n",
       "      <th></th>\n",
       "      <th></th>\n",
       "      <th></th>\n",
       "      <th></th>\n",
       "      <th></th>\n",
       "      <th></th>\n",
       "      <th></th>\n",
       "      <th></th>\n",
       "      <th></th>\n",
       "      <th></th>\n",
       "      <th></th>\n",
       "      <th></th>\n",
       "    </tr>\n",
       "  </thead>\n",
       "  <tbody>\n",
       "    <tr>\n",
       "      <th>1</th>\n",
       "      <td>9.124391e-31</td>\n",
       "      <td>8.036040e-38</td>\n",
       "      <td>4.614826e-56</td>\n",
       "      <td>2.279895e-99</td>\n",
       "      <td>1.610577e-47</td>\n",
       "      <td>8.487204e-10</td>\n",
       "      <td>2.250473e-11</td>\n",
       "      <td>5.756725e-29</td>\n",
       "      <td>4.040463e-26</td>\n",
       "      <td>2.525177e-85</td>\n",
       "      <td>...</td>\n",
       "      <td>3.152788e-25</td>\n",
       "      <td>7.743067e-78</td>\n",
       "      <td>2.817278e-24</td>\n",
       "      <td>0.000000e+00</td>\n",
       "      <td>0.000000e+00</td>\n",
       "      <td>3.171895e-30</td>\n",
       "      <td>0.000000e+00</td>\n",
       "      <td>6.625910e-22</td>\n",
       "      <td>0.000000e+00</td>\n",
       "      <td>22</td>\n",
       "    </tr>\n",
       "    <tr>\n",
       "      <th>2</th>\n",
       "      <td>2.973061e-111</td>\n",
       "      <td>6.405377e-95</td>\n",
       "      <td>2.735872e-11</td>\n",
       "      <td>4.966691e-27</td>\n",
       "      <td>4.218541e-110</td>\n",
       "      <td>2.161913e-107</td>\n",
       "      <td>4.711781e-283</td>\n",
       "      <td>2.057877e-73</td>\n",
       "      <td>2.553696e-12</td>\n",
       "      <td>1.392694e-85</td>\n",
       "      <td>...</td>\n",
       "      <td>1.265311e-08</td>\n",
       "      <td>1.686664e-28</td>\n",
       "      <td>3.263632e-202</td>\n",
       "      <td>8.574362e-20</td>\n",
       "      <td>1.494268e-161</td>\n",
       "      <td>9.315573e-19</td>\n",
       "      <td>0.000000e+00</td>\n",
       "      <td>5.455236e-11</td>\n",
       "      <td>0.000000e+00</td>\n",
       "      <td>25</td>\n",
       "    </tr>\n",
       "    <tr>\n",
       "      <th>3</th>\n",
       "      <td>2.168353e-181</td>\n",
       "      <td>5.292826e-65</td>\n",
       "      <td>9.444697e-318</td>\n",
       "      <td>1.390934e-141</td>\n",
       "      <td>1.902337e-23</td>\n",
       "      <td>0.000000e+00</td>\n",
       "      <td>7.248176e-05</td>\n",
       "      <td>1.120929e-210</td>\n",
       "      <td>1.887261e-39</td>\n",
       "      <td>2.409483e-69</td>\n",
       "      <td>...</td>\n",
       "      <td>4.203073e-51</td>\n",
       "      <td>2.046047e-210</td>\n",
       "      <td>0.000000e+00</td>\n",
       "      <td>1.628975e+00</td>\n",
       "      <td>0.000000e+00</td>\n",
       "      <td>1.189557e-80</td>\n",
       "      <td>6.318885e-02</td>\n",
       "      <td>9.980264e-251</td>\n",
       "      <td>1.076291e-34</td>\n",
       "      <td>9</td>\n",
       "    </tr>\n",
       "    <tr>\n",
       "      <th>4</th>\n",
       "      <td>2.203527e-128</td>\n",
       "      <td>5.605085e-61</td>\n",
       "      <td>5.309238e-66</td>\n",
       "      <td>3.106777e-82</td>\n",
       "      <td>2.169759e-115</td>\n",
       "      <td>1.535179e-57</td>\n",
       "      <td>1.789653e-250</td>\n",
       "      <td>7.359979e-15</td>\n",
       "      <td>2.533689e-27</td>\n",
       "      <td>2.325256e-205</td>\n",
       "      <td>...</td>\n",
       "      <td>5.316639e-09</td>\n",
       "      <td>1.094104e-82</td>\n",
       "      <td>2.314366e-05</td>\n",
       "      <td>4.846996e-77</td>\n",
       "      <td>5.473915e-241</td>\n",
       "      <td>4.294852e-88</td>\n",
       "      <td>0.000000e+00</td>\n",
       "      <td>1.580658e-15</td>\n",
       "      <td>0.000000e+00</td>\n",
       "      <td>23</td>\n",
       "    </tr>\n",
       "    <tr>\n",
       "      <th>5</th>\n",
       "      <td>2.702053e-24</td>\n",
       "      <td>3.426321e-79</td>\n",
       "      <td>1.491430e-18</td>\n",
       "      <td>9.167029e-02</td>\n",
       "      <td>4.237540e-03</td>\n",
       "      <td>5.383225e-48</td>\n",
       "      <td>0.000000e+00</td>\n",
       "      <td>1.552436e-31</td>\n",
       "      <td>0.000000e+00</td>\n",
       "      <td>2.900905e+00</td>\n",
       "      <td>...</td>\n",
       "      <td>1.875603e-216</td>\n",
       "      <td>5.020648e-05</td>\n",
       "      <td>1.608720e-68</td>\n",
       "      <td>1.518459e-17</td>\n",
       "      <td>2.026061e-162</td>\n",
       "      <td>7.991754e-86</td>\n",
       "      <td>1.468795e-12</td>\n",
       "      <td>1.433941e-10</td>\n",
       "      <td>2.561009e-37</td>\n",
       "      <td>16</td>\n",
       "    </tr>\n",
       "  </tbody>\n",
       "</table>\n",
       "<p>5 rows × 101 columns</p>\n",
       "</div>"
      ],
      "text/plain": [
       "              x_1           x_2            x_3            x_4            x_5  \\\n",
       "Id                                                                             \n",
       "1    9.124391e-31  8.036040e-38   4.614826e-56   2.279895e-99   1.610577e-47   \n",
       "2   2.973061e-111  6.405377e-95   2.735872e-11   4.966691e-27  4.218541e-110   \n",
       "3   2.168353e-181  5.292826e-65  9.444697e-318  1.390934e-141   1.902337e-23   \n",
       "4   2.203527e-128  5.605085e-61   5.309238e-66   3.106777e-82  2.169759e-115   \n",
       "5    2.702053e-24  3.426321e-79   1.491430e-18   9.167029e-02   4.237540e-03   \n",
       "\n",
       "              x_6            x_7            x_8           x_9           x_10  \\\n",
       "Id                                                                             \n",
       "1    8.487204e-10   2.250473e-11   5.756725e-29  4.040463e-26   2.525177e-85   \n",
       "2   2.161913e-107  4.711781e-283   2.057877e-73  2.553696e-12   1.392694e-85   \n",
       "3    0.000000e+00   7.248176e-05  1.120929e-210  1.887261e-39   2.409483e-69   \n",
       "4    1.535179e-57  1.789653e-250   7.359979e-15  2.533689e-27  2.325256e-205   \n",
       "5    5.383225e-48   0.000000e+00   1.552436e-31  0.000000e+00   2.900905e+00   \n",
       "\n",
       "    ...           x_92           x_93           x_94          x_95  \\\n",
       "Id  ...                                                              \n",
       "1   ...   3.152788e-25   7.743067e-78   2.817278e-24  0.000000e+00   \n",
       "2   ...   1.265311e-08   1.686664e-28  3.263632e-202  8.574362e-20   \n",
       "3   ...   4.203073e-51  2.046047e-210   0.000000e+00  1.628975e+00   \n",
       "4   ...   5.316639e-09   1.094104e-82   2.314366e-05  4.846996e-77   \n",
       "5   ...  1.875603e-216   5.020648e-05   1.608720e-68  1.518459e-17   \n",
       "\n",
       "             x_96          x_97          x_98           x_99         x_100  \\\n",
       "Id                                                                           \n",
       "1    0.000000e+00  3.171895e-30  0.000000e+00   6.625910e-22  0.000000e+00   \n",
       "2   1.494268e-161  9.315573e-19  0.000000e+00   5.455236e-11  0.000000e+00   \n",
       "3    0.000000e+00  1.189557e-80  6.318885e-02  9.980264e-251  1.076291e-34   \n",
       "4   5.473915e-241  4.294852e-88  0.000000e+00   1.580658e-15  0.000000e+00   \n",
       "5   2.026061e-162  7.991754e-86  1.468795e-12   1.433941e-10  2.561009e-37   \n",
       "\n",
       "    Category  \n",
       "Id            \n",
       "1         22  \n",
       "2         25  \n",
       "3          9  \n",
       "4         23  \n",
       "5         16  \n",
       "\n",
       "[5 rows x 101 columns]"
      ]
     },
     "execution_count": 3,
     "metadata": {},
     "output_type": "execute_result"
    }
   ],
   "source": [
    "import numpy as np\n",
    "import pandas as pd\n",
    "from sklearn.model_selection import train_test_split\n",
    "from sklearn.neighbors import KNeighborsClassifier\n",
    "import warnings\n",
    "warnings.filterwarnings(\"ignore\")\n",
    "\n",
    "# Загрузка данных\n",
    "data = pd.read_csv('data/train.csv', index_col='Id')\n",
    "features = data.columns[:-1].values.tolist()\n",
    "\n",
    "# Предобработка (см. начало ноутбука)\n",
    "df = data[features].apply(lambda x: np.sum(x), axis=1)\n",
    "data = data[df > 0]\n",
    "data = data[np.all(data >= 0, axis=1)]\n",
    "\n",
    "X, y = data[features].values, data['Category'].values\n",
    "print(f'Total samples: {len(data)}')\n",
    "counts = np.unique(data[\"Category\"].values, return_counts=True)[1]\n",
    "print(f'Samples per class\\n\\tmean: {np.mean(counts):.0f}\\n\\tmedian: {np.median(counts):.0f}')\n",
    "\n",
    "data.head()"
   ]
  },
  {
   "cell_type": "markdown",
   "metadata": {},
   "source": [
    "Деление на обучение, валидацию и контроль."
   ]
  },
  {
   "cell_type": "code",
   "execution_count": 4,
   "metadata": {},
   "outputs": [],
   "source": [
    "X_train_val, X_test, y_train_val, y_test = train_test_split(X, y, test_size=0.2, shuffle=True)\n",
    "X_train, X_val, y_train, y_val = train_test_split(X_train_val, y_train_val,\n",
    "                                                  test_size=0.25, shuffle=True)"
   ]
  },
  {
   "cell_type": "code",
   "execution_count": 5,
   "metadata": {},
   "outputs": [
    {
     "name": "stdout",
     "output_type": "stream",
     "text": [
      "Val  | 0.43833333333333335\n",
      "Test | 0.4461111111111111\n"
     ]
    }
   ],
   "source": [
    "clf = KNeighborsClassifier(metric='chebyshev')\n",
    "\n",
    "clf.fit(X_train, y_train)\n",
    "\n",
    "y_pred = clf.predict(X_val)\n",
    "print(f'Val  | {(y_pred == y_val).mean()}')\n",
    "\n",
    "y_pred = clf.predict(X_test)\n",
    "print(f'Test | {(y_pred == y_test).mean()}')"
   ]
  },
  {
   "cell_type": "markdown",
   "metadata": {},
   "source": [
    "На kaggle такое решение получает точность `43%`."
   ]
  },
  {
   "cell_type": "code",
   "execution_count": null,
   "metadata": {},
   "outputs": [],
   "source": []
  }
 ],
 "metadata": {
  "environment": {
   "name": "pytorch-gpu.1-4.m55",
   "type": "gcloud",
   "uri": "gcr.io/deeplearning-platform-release/pytorch-gpu.1-4:m55"
  },
  "kernelspec": {
   "display_name": "Python [conda env:hendricks]",
   "language": "python",
   "name": "conda-env-hendricks-py"
  },
  "language_info": {
   "codemirror_mode": {
    "name": "ipython",
    "version": 3
   },
   "file_extension": ".py",
   "mimetype": "text/x-python",
   "name": "python",
   "nbconvert_exporter": "python",
   "pygments_lexer": "ipython3",
   "version": "3.7.8"
  }
 },
 "nbformat": 4,
 "nbformat_minor": 4
}
