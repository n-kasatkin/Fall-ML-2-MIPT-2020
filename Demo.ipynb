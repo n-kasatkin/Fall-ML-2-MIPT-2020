{
 "cells": [
  {
   "cell_type": "code",
   "execution_count": 1,
   "metadata": {},
   "outputs": [
    {
     "data": {
      "text/plain": [
       "<All keys matched successfully>"
      ]
     },
     "execution_count": 1,
     "metadata": {},
     "output_type": "execute_result"
    }
   ],
   "source": [
    "import os\n",
    "import os.path as osp\n",
    "import sys\n",
    "\n",
    "import numpy as np\n",
    "import torch\n",
    "\n",
    "from NeuralNetwork.network import NNClassifier\n",
    "from NeuralNetwork.dataset import MyDataset\n",
    "\n",
    "\n",
    "EXPERIMENT = 'baseline'\n",
    "CHPT = 144\n",
    "SAVE_NAME = 'nnclassifier'\n",
    "\n",
    "ckpt_file = f'output/checkpoints/{EXPERIMENT}/epoch={CHPT}.ckpt'\n",
    "weights_file = f'models/{SAVE_NAME}.pth'\n",
    "\n",
    "ckpt = torch.load(ckpt_file, map_location='cpu')\n",
    "state_dict = {k[9:] if k.startswith('backbone.') else k: v for k, v in ckpt['state_dict'].items()}\n",
    "torch.save({'model': state_dict}, weights_file)\n",
    "\n",
    "X, features = MyDataset.load_data('data/test.csv', test=True)\n",
    "X = torch.from_numpy(X).float()\n",
    "\n",
    "model = NNClassifier()\n",
    "ckpt = torch.load(weights_file, map_location='cpu')\n",
    "model.load_state_dict(ckpt['model'])"
   ]
  },
  {
   "cell_type": "code",
   "execution_count": 2,
   "metadata": {},
   "outputs": [],
   "source": [
    "def predict(logits):\n",
    "    return torch.argmax(logits, dim=1).numpy()\n",
    "\n",
    "preds = predict(model(X))"
   ]
  },
  {
   "cell_type": "code",
   "execution_count": 4,
   "metadata": {},
   "outputs": [],
   "source": [
    "with open('output/answer.csv', 'w') as f:\n",
    "    f.write('Id,Category\\n')\n",
    "    for i, pred in enumerate(preds):\n",
    "        string = f\"{i},{int(pred)}\\n\"\n",
    "        f.write(string)"
   ]
  },
  {
   "cell_type": "code",
   "execution_count": null,
   "metadata": {},
   "outputs": [],
   "source": []
  },
  {
   "cell_type": "code",
   "execution_count": null,
   "metadata": {},
   "outputs": [],
   "source": []
  },
  {
   "cell_type": "code",
   "execution_count": null,
   "metadata": {},
   "outputs": [],
   "source": []
  },
  {
   "cell_type": "code",
   "execution_count": null,
   "metadata": {},
   "outputs": [],
   "source": []
  },
  {
   "cell_type": "code",
   "execution_count": null,
   "metadata": {},
   "outputs": [],
   "source": []
  },
  {
   "cell_type": "code",
   "execution_count": null,
   "metadata": {},
   "outputs": [],
   "source": []
  },
  {
   "cell_type": "code",
   "execution_count": null,
   "metadata": {},
   "outputs": [],
   "source": []
  },
  {
   "cell_type": "code",
   "execution_count": null,
   "metadata": {},
   "outputs": [],
   "source": []
  },
  {
   "cell_type": "code",
   "execution_count": null,
   "metadata": {},
   "outputs": [],
   "source": []
  },
  {
   "cell_type": "code",
   "execution_count": null,
   "metadata": {},
   "outputs": [],
   "source": []
  },
  {
   "cell_type": "code",
   "execution_count": null,
   "metadata": {},
   "outputs": [],
   "source": []
  },
  {
   "cell_type": "code",
   "execution_count": null,
   "metadata": {},
   "outputs": [],
   "source": []
  },
  {
   "cell_type": "code",
   "execution_count": null,
   "metadata": {},
   "outputs": [],
   "source": []
  },
  {
   "cell_type": "code",
   "execution_count": null,
   "metadata": {},
   "outputs": [],
   "source": []
  }
 ],
 "metadata": {
  "environment": {
   "name": "pytorch-gpu.1-4.m55",
   "type": "gcloud",
   "uri": "gcr.io/deeplearning-platform-release/pytorch-gpu.1-4:m55"
  },
  "kernelspec": {
   "display_name": "Python [conda env:hendricks]",
   "language": "python",
   "name": "conda-env-hendricks-py"
  },
  "language_info": {
   "codemirror_mode": {
    "name": "ipython",
    "version": 3
   },
   "file_extension": ".py",
   "mimetype": "text/x-python",
   "name": "python",
   "nbconvert_exporter": "python",
   "pygments_lexer": "ipython3",
   "version": "3.7.8"
  }
 },
 "nbformat": 4,
 "nbformat_minor": 4
}
